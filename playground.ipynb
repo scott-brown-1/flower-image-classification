{
 "cells": [
  {
   "cell_type": "markdown",
   "metadata": {},
   "source": [
    "# Imports and Setup"
   ]
  },
  {
   "cell_type": "code",
   "execution_count": 1,
   "metadata": {},
   "outputs": [
    {
     "name": "stderr",
     "output_type": "stream",
     "text": [
      "2024-03-07 14:23:16.235184: I tensorflow/core/util/port.cc:113] oneDNN custom operations are on. You may see slightly different numerical results due to floating-point round-off errors from different computation orders. To turn them off, set the environment variable `TF_ENABLE_ONEDNN_OPTS=0`.\n",
      "2024-03-07 14:23:16.258426: E external/local_xla/xla/stream_executor/cuda/cuda_dnn.cc:9261] Unable to register cuDNN factory: Attempting to register factory for plugin cuDNN when one has already been registered\n",
      "2024-03-07 14:23:16.258450: E external/local_xla/xla/stream_executor/cuda/cuda_fft.cc:607] Unable to register cuFFT factory: Attempting to register factory for plugin cuFFT when one has already been registered\n",
      "2024-03-07 14:23:16.259035: E external/local_xla/xla/stream_executor/cuda/cuda_blas.cc:1515] Unable to register cuBLAS factory: Attempting to register factory for plugin cuBLAS when one has already been registered\n",
      "2024-03-07 14:23:16.263811: I tensorflow/core/platform/cpu_feature_guard.cc:182] This TensorFlow binary is optimized to use available CPU instructions in performance-critical operations.\n",
      "To enable the following instructions: AVX2 AVX_VNNI FMA, in other operations, rebuild TensorFlow with the appropriate compiler flags.\n",
      "2024-03-07 14:23:16.743256: W tensorflow/compiler/tf2tensorrt/utils/py_utils.cc:38] TF-TRT Warning: Could not find TensorRT\n"
     ]
    }
   ],
   "source": [
    "import numpy as np\n",
    "import pandas as pd\n",
    "import matplotlib.pyplot as plt\n",
    "import os\n",
    "\n",
    "import tensorflow as tf\n",
    "from tensorflow.keras.preprocessing.image import ImageDataGenerator\n",
    "from tensorflow.keras.models import Sequential\n",
    "from tensorflow.keras.layers import Flatten,Dense, InputLayer\n",
    "from tensorflow.keras.callbacks import EarlyStopping, ModelCheckpoint\n",
    "from tensorflow.keras.layers import LeakyReLU\n",
    "\n",
    "USE_GPU = True"
   ]
  },
  {
   "cell_type": "code",
   "execution_count": 2,
   "metadata": {},
   "outputs": [
    {
     "name": "stderr",
     "output_type": "stream",
     "text": [
      "2024-03-07 14:23:18.975986: I external/local_xla/xla/stream_executor/cuda/cuda_executor.cc:887] could not open file to read NUMA node: /sys/bus/pci/devices/0000:01:00.0/numa_node\n",
      "Your kernel may have been built without NUMA support.\n",
      "2024-03-07 14:23:18.997721: I external/local_xla/xla/stream_executor/cuda/cuda_executor.cc:887] could not open file to read NUMA node: /sys/bus/pci/devices/0000:01:00.0/numa_node\n",
      "Your kernel may have been built without NUMA support.\n",
      "2024-03-07 14:23:18.997952: I external/local_xla/xla/stream_executor/cuda/cuda_executor.cc:887] could not open file to read NUMA node: /sys/bus/pci/devices/0000:01:00.0/numa_node\n",
      "Your kernel may have been built without NUMA support.\n"
     ]
    },
    {
     "name": "stdout",
     "output_type": "stream",
     "text": [
      "Device mapping:\n",
      "/job:localhost/replica:0/task:0/device:GPU:0 -> device: 0, name: NVIDIA GeForce RTX 3050 Ti Laptop GPU, pci bus id: 0000:01:00.0, compute capability: 8.6\n",
      "\n"
     ]
    },
    {
     "name": "stderr",
     "output_type": "stream",
     "text": [
      "2024-03-07 14:23:19.186115: I external/local_xla/xla/stream_executor/cuda/cuda_executor.cc:887] could not open file to read NUMA node: /sys/bus/pci/devices/0000:01:00.0/numa_node\n",
      "Your kernel may have been built without NUMA support.\n",
      "2024-03-07 14:23:19.186191: I external/local_xla/xla/stream_executor/cuda/cuda_executor.cc:887] could not open file to read NUMA node: /sys/bus/pci/devices/0000:01:00.0/numa_node\n",
      "Your kernel may have been built without NUMA support.\n",
      "2024-03-07 14:23:19.186197: I tensorflow/core/common_runtime/gpu/gpu_device.cc:2022] Could not identify NUMA node of platform GPU id 0, defaulting to 0.  Your kernel may not have been built with NUMA support.\n",
      "2024-03-07 14:23:19.186221: I external/local_xla/xla/stream_executor/cuda/cuda_executor.cc:887] could not open file to read NUMA node: /sys/bus/pci/devices/0000:01:00.0/numa_node\n",
      "Your kernel may have been built without NUMA support.\n",
      "2024-03-07 14:23:19.186235: I tensorflow/core/common_runtime/gpu/gpu_device.cc:1929] Created device /job:localhost/replica:0/task:0/device:GPU:0 with 1766 MB memory:  -> device: 0, name: NVIDIA GeForce RTX 3050 Ti Laptop GPU, pci bus id: 0000:01:00.0, compute capability: 8.6\n"
     ]
    }
   ],
   "source": [
    "if USE_GPU:\n",
    "    #tf.debugging.set_log_device_placement(True)\n",
    "    sess = tf.compat.v1.Session(config=tf.compat.v1.ConfigProto(log_device_placement=True))"
   ]
  },
  {
   "cell_type": "code",
   "execution_count": 3,
   "metadata": {},
   "outputs": [],
   "source": [
    "## Define path to data and parameters for loader\n",
    "TRAIN_PATH = './data/training/'\n",
    "TEST_PATH = './data/testing/'\n",
    "LABELS_PATH = './data/training_labels.csv'\n",
    "\n",
    "TEST_SIZE = 0.25\n",
    "BATCH_SIZE = 32\n",
    "#IMG_HEIGHT = 180\n",
    "#IMG_WIDTH = 180\n",
    "\n",
    "N_CLASSES = 5\n",
    "\n",
    "## Encoding labels\n",
    "LABEL_ENCODING = {\n",
    "    'daisy': 0,\n",
    "    'dandelion': 1,\n",
    "    'rose': 2,\n",
    "    'sunflower': 3,\n",
    "    'tulip': 4\n",
    "}"
   ]
  },
  {
   "cell_type": "markdown",
   "metadata": {},
   "source": [
    "Read in data and assign labels"
   ]
  },
  {
   "cell_type": "code",
   "execution_count": 4,
   "metadata": {},
   "outputs": [],
   "source": [
    "## Get labels for train and test data\n",
    "labels_df = pd.read_csv(LABELS_PATH)\n",
    "labels_df['full_id'] = [os.path.join('/home/scottbrown/byu/stat486/projects/flower-image-classification/data/training/training', l) for l in labels_df.ID]"
   ]
  },
  {
   "cell_type": "code",
   "execution_count": 5,
   "metadata": {},
   "outputs": [],
   "source": [
    "# labels_df['target_encoded'] = labels_df['target'].copy() #.map(LABEL_ENCODING)\n",
    "\n",
    "# train_labels = list(zip(labels_df['ID'], labels_df['target_encoded']))\n",
    "# test_labels = list(zip(labels_df['ID'], labels_df['target_encoded']))\n",
    "\n",
    "# ## Sort (in place) according to the alphanumeric order of the image file paths.\n",
    "# train_labels.sort(key=lambda x: x[0])\n",
    "# test_labels.sort(key=lambda x: x[0])\n",
    "\n",
    "## Change first item in each tuple to index\n",
    "# # train_labels = [(i, l[1]) for i, l in enumerate(train_labels)]\n",
    "# # test_labels = [(i, l[1]) for i, l in enumerate(test_labels)]"
   ]
  },
  {
   "cell_type": "code",
   "execution_count": 6,
   "metadata": {},
   "outputs": [
    {
     "name": "stdout",
     "output_type": "stream",
     "text": [
      "Found 2591 validated image filenames belonging to 5 classes.\n",
      "Found 863 validated image filenames belonging to 5 classes.\n"
     ]
    }
   ],
   "source": [
    "## NOTE: `flow_from_dataframe` via ImageDataGenerator is deprecated\n",
    "# In the future, organize directory structure for `flow_from_directory`\n",
    "datagen = tf.keras.preprocessing.image.ImageDataGenerator(rescale=1./255, validation_split=TEST_SIZE)\n",
    "train_gen = datagen.flow_from_dataframe(\n",
    "    labels_df, \n",
    "    directory=TRAIN_PATH, \n",
    "    subset='training',\n",
    "    x_col='full_id', \n",
    "    y_col='target', \n",
    "    class_mode='categorical', \n",
    "    batch_size=BATCH_SIZE)\n",
    "\n",
    "test_gen = datagen.flow_from_dataframe(\n",
    "    labels_df, \n",
    "    directory=TRAIN_PATH, \n",
    "    subset='validation',\n",
    "    x_col='full_id', \n",
    "    y_col='target', \n",
    "    class_mode='categorical', \n",
    "    batch_size=BATCH_SIZE)"
   ]
  },
  {
   "cell_type": "code",
   "execution_count": 7,
   "metadata": {},
   "outputs": [],
   "source": [
    "# train = tf.keras.utils.image_dataset_from_directory(\n",
    "#   TRAIN_PATH,\n",
    "#   labels=train_labels,\n",
    "#   #label_mode = 'categorical',\n",
    "#   validation_split=TEST_SIZE,\n",
    "#   subset='training',\n",
    "#   seed=9, # Joe Burrow\n",
    "#   #image_size=(img_height, img_width),\n",
    "#   batch_size=BATCH_SIZE)\n",
    "\n",
    "# test = tf.keras.utils.image_dataset_from_directory(\n",
    "#   TRAIN_PATH,\n",
    "#   labels=test_labels,\n",
    "#   #label_mode = 'categorical',\n",
    "#   validation_split=TEST_SIZE,\n",
    "#   subset='validation',\n",
    "#   seed=9, # Joe Burrow\n",
    "#   #image_size=(img_height, img_width),\n",
    "#   batch_size=BATCH_SIZE)"
   ]
  },
  {
   "cell_type": "markdown",
   "metadata": {},
   "source": [
    "# Preview images"
   ]
  },
  {
   "cell_type": "code",
   "execution_count": 8,
   "metadata": {},
   "outputs": [],
   "source": [
    "# ## Recreate the above code for train_gen generator object\n",
    "# class_names = list(train_gen.class_indices.keys())\n",
    "# for images, labels in train_gen:\n",
    "#   plt.figure(figsize=(10, 10))\n",
    "#   for i in range(9):\n",
    "#     ax = plt.subplot(3, 3, i + 1)\n",
    "#     lab = class_names[labels[i].argmax()]\n",
    "#     plt.imshow(images[i])\n",
    "#     plt.title(lab)\n",
    "#     plt.axis(\"off\")\n",
    "#   break"
   ]
  },
  {
   "cell_type": "markdown",
   "metadata": {},
   "source": [
    "# Create model"
   ]
  },
  {
   "cell_type": "code",
   "execution_count": 9,
   "metadata": {},
   "outputs": [
    {
     "name": "stderr",
     "output_type": "stream",
     "text": [
      "2024-03-07 14:23:19.293648: I external/local_xla/xla/stream_executor/cuda/cuda_executor.cc:887] could not open file to read NUMA node: /sys/bus/pci/devices/0000:01:00.0/numa_node\n",
      "Your kernel may have been built without NUMA support.\n",
      "2024-03-07 14:23:19.293834: I external/local_xla/xla/stream_executor/cuda/cuda_executor.cc:887] could not open file to read NUMA node: /sys/bus/pci/devices/0000:01:00.0/numa_node\n",
      "Your kernel may have been built without NUMA support.\n",
      "2024-03-07 14:23:19.293910: I external/local_xla/xla/stream_executor/cuda/cuda_executor.cc:887] could not open file to read NUMA node: /sys/bus/pci/devices/0000:01:00.0/numa_node\n",
      "Your kernel may have been built without NUMA support.\n",
      "2024-03-07 14:23:19.294079: I external/local_xla/xla/stream_executor/cuda/cuda_executor.cc:887] could not open file to read NUMA node: /sys/bus/pci/devices/0000:01:00.0/numa_node\n",
      "Your kernel may have been built without NUMA support.\n",
      "2024-03-07 14:23:19.294099: I external/local_xla/xla/stream_executor/cuda/cuda_executor.cc:887] could not open file to read NUMA node: /sys/bus/pci/devices/0000:01:00.0/numa_node\n",
      "Your kernel may have been built without NUMA support.\n",
      "2024-03-07 14:23:19.294110: I external/local_xla/xla/stream_executor/cuda/cuda_executor.cc:887] could not open file to read NUMA node: /sys/bus/pci/devices/0000:01:00.0/numa_node\n",
      "Your kernel may have been built without NUMA support.\n",
      "2024-03-07 14:23:19.294305: I external/local_xla/xla/stream_executor/cuda/cuda_executor.cc:887] could not open file to read NUMA node: /sys/bus/pci/devices/0000:01:00.0/numa_node\n",
      "Your kernel may have been built without NUMA support.\n",
      "2024-03-07 14:23:19.294318: I tensorflow/core/common_runtime/gpu/gpu_device.cc:2022] Could not identify NUMA node of platform GPU id 0, defaulting to 0.  Your kernel may not have been built with NUMA support.\n",
      "2024-03-07 14:23:19.294339: I external/local_xla/xla/stream_executor/cuda/cuda_executor.cc:887] could not open file to read NUMA node: /sys/bus/pci/devices/0000:01:00.0/numa_node\n",
      "Your kernel may have been built without NUMA support.\n",
      "2024-03-07 14:23:19.294352: I tensorflow/core/common_runtime/gpu/gpu_device.cc:1929] Created device /job:localhost/replica:0/task:0/device:GPU:0 with 1766 MB memory:  -> device: 0, name: NVIDIA GeForce RTX 3050 Ti Laptop GPU, pci bus id: 0000:01:00.0, compute capability: 8.6\n"
     ]
    }
   ],
   "source": [
    "cnn = tf.keras.Sequential([\n",
    "    ## Preprocessing - now handled in data loading\n",
    "    # tf.keras.layers.Rescaling(1./255), # Normalize RGB values\n",
    "    ## 3 Convolutional => MaxPooling layers\n",
    "    tf.keras.layers.Conv2D(48, (3, 3), activation='relu'),\n",
    "    tf.keras.layers.MaxPooling2D(),\n",
    "    tf.keras.layers.Dropout(0.4),\n",
    "\n",
    "    tf.keras.layers.Conv2D(48, (3, 3), activation='relu'),\n",
    "    tf.keras.layers.MaxPooling2D(),\n",
    "    tf.keras.layers.Dropout(0.4),\n",
    "\n",
    "    tf.keras.layers.Conv2D(48, (3, 3), activation='relu'),\n",
    "    tf.keras.layers.MaxPooling2D(),\n",
    "    tf.keras.layers.Dropout(0.4),\n",
    "\n",
    "    ## 1 Fully connected layer\n",
    "    tf.keras.layers.Flatten(),\n",
    "    tf.keras.layers.Dense(128, activation='relu'),#LeakyReLU(alpha=0.01)),\n",
    "    \n",
    "    ## Output layer\n",
    "    tf.keras.layers.Dense(N_CLASSES, activation='softmax')\n",
    "])"
   ]
  },
  {
   "cell_type": "code",
   "execution_count": 10,
   "metadata": {},
   "outputs": [],
   "source": [
    "cnn.compile(\n",
    "  optimizer='adam',\n",
    "  loss=tf.keras.losses.CategoricalCrossentropy(),\n",
    "  metrics=['accuracy'])"
   ]
  },
  {
   "cell_type": "markdown",
   "metadata": {},
   "source": [
    "# Fit model"
   ]
  },
  {
   "cell_type": "code",
   "execution_count": 11,
   "metadata": {},
   "outputs": [
    {
     "name": "stderr",
     "output_type": "stream",
     "text": [
      "2024-03-07 14:23:19.547386: I external/local_xla/xla/stream_executor/cuda/cuda_dnn.cc:454] Loaded cuDNN version 8904\n",
      "2024-03-07 14:23:19.676780: I external/local_tsl/tsl/platform/default/subprocess.cc:304] Start cannot spawn child process: No such file or directory\n",
      "2024-03-07 14:23:20.847070: I external/local_tsl/tsl/platform/default/subprocess.cc:304] Start cannot spawn child process: No such file or directory\n"
     ]
    },
    {
     "name": "stdout",
     "output_type": "stream",
     "text": [
      "Epoch 1/20\n"
     ]
    },
    {
     "name": "stderr",
     "output_type": "stream",
     "text": [
      "2024-03-07 14:23:22.256057: E tensorflow/core/grappler/optimizers/meta_optimizer.cc:961] layout failed: INVALID_ARGUMENT: Size of values 0 does not match size of permutation 4 @ fanin shape insequential/dropout/dropout/SelectV2-2-TransposeNHWCToNCHW-LayoutOptimizer\n",
      "2024-03-07 14:23:23.458611: I external/local_xla/xla/service/service.cc:168] XLA service 0x7f45e49fe800 initialized for platform CUDA (this does not guarantee that XLA will be used). Devices:\n",
      "2024-03-07 14:23:23.458641: I external/local_xla/xla/service/service.cc:176]   StreamExecutor device (0): NVIDIA GeForce RTX 3050 Ti Laptop GPU, Compute Capability 8.6\n",
      "2024-03-07 14:23:23.463041: I tensorflow/compiler/mlir/tensorflow/utils/dump_mlir_util.cc:269] disabling MLIR crash reproducer, set env var `MLIR_CRASH_REPRODUCER_DIRECTORY` to enable.\n",
      "WARNING: All log messages before absl::InitializeLog() is called are written to STDERR\n",
      "I0000 00:00:1709846603.527724   15538 device_compiler.h:186] Compiled cluster using XLA!  This line is logged at most once for the lifetime of the process.\n",
      "2024-03-07 14:23:34.291671: W external/local_tsl/tsl/framework/bfc_allocator.cc:296] Allocator (GPU_0_bfc) ran out of memory trying to allocate 1.58GiB with freed_by_count=0. The caller indicates that this is not a failure, but this may mean that there could be performance gains if more memory were available.\n",
      "2024-03-07 14:23:35.216615: W external/local_tsl/tsl/framework/bfc_allocator.cc:296] Allocator (GPU_0_bfc) ran out of memory trying to allocate 1.58GiB with freed_by_count=0. The caller indicates that this is not a failure, but this may mean that there could be performance gains if more memory were available.\n"
     ]
    },
    {
     "name": "stdout",
     "output_type": "stream",
     "text": [
      "27/81 [=========>....................] - ETA: 6s - loss: 2.3517 - accuracy: 0.2199"
     ]
    },
    {
     "name": "stderr",
     "output_type": "stream",
     "text": [
      "2024-03-07 14:23:50.977071: W external/local_tsl/tsl/framework/bfc_allocator.cc:296] Allocator (GPU_0_bfc) ran out of memory trying to allocate 1.53GiB with freed_by_count=0. The caller indicates that this is not a failure, but this may mean that there could be performance gains if more memory were available.\n"
     ]
    },
    {
     "name": "stdout",
     "output_type": "stream",
     "text": [
      "28/81 [=========>....................] - ETA: 32s - loss: 2.3252 - accuracy: 0.2201"
     ]
    },
    {
     "name": "stderr",
     "output_type": "stream",
     "text": [
      "2024-03-07 14:23:51.943535: W external/local_tsl/tsl/framework/bfc_allocator.cc:296] Allocator (GPU_0_bfc) ran out of memory trying to allocate 1.53GiB with freed_by_count=0. The caller indicates that this is not a failure, but this may mean that there could be performance gains if more memory were available.\n"
     ]
    },
    {
     "name": "stdout",
     "output_type": "stream",
     "text": [
      "81/81 [==============================] - 37s 298ms/step - loss: 1.6840 - accuracy: 0.3342 - val_loss: 1.2941 - val_accuracy: 0.4426\n",
      "Epoch 2/20\n",
      "81/81 [==============================] - 10s 128ms/step - loss: 1.1701 - accuracy: 0.5048 - val_loss: 1.1719 - val_accuracy: 0.5597\n",
      "Epoch 3/20\n",
      "81/81 [==============================] - 10s 127ms/step - loss: 1.0809 - accuracy: 0.5646 - val_loss: 1.1093 - val_accuracy: 0.5701\n",
      "Epoch 4/20\n",
      "81/81 [==============================] - 10s 126ms/step - loss: 1.0024 - accuracy: 0.6040 - val_loss: 1.0719 - val_accuracy: 0.5771\n",
      "Epoch 5/20\n",
      "81/81 [==============================] - 10s 126ms/step - loss: 0.9283 - accuracy: 0.6357 - val_loss: 1.0031 - val_accuracy: 0.5794\n",
      "Epoch 6/20\n",
      "81/81 [==============================] - 10s 126ms/step - loss: 0.8321 - accuracy: 0.6820 - val_loss: 1.0321 - val_accuracy: 0.5817\n",
      "Epoch 7/20\n",
      "81/81 [==============================] - 10s 126ms/step - loss: 0.7299 - accuracy: 0.7171 - val_loss: 0.9597 - val_accuracy: 0.5991\n",
      "Epoch 8/20\n",
      "81/81 [==============================] - 10s 126ms/step - loss: 0.6177 - accuracy: 0.7800 - val_loss: 1.0616 - val_accuracy: 0.5840\n",
      "Epoch 9/20\n",
      "81/81 [==============================] - 10s 126ms/step - loss: 0.4829 - accuracy: 0.8217 - val_loss: 1.0466 - val_accuracy: 0.6083\n",
      "Epoch 10/20\n",
      "81/81 [==============================] - 11s 131ms/step - loss: 0.3916 - accuracy: 0.8564 - val_loss: 1.1416 - val_accuracy: 0.5782\n",
      "Epoch 11/20\n",
      "81/81 [==============================] - 10s 129ms/step - loss: 0.2933 - accuracy: 0.8908 - val_loss: 1.1473 - val_accuracy: 0.5956\n",
      "Epoch 12/20\n",
      "81/81 [==============================] - 10s 128ms/step - loss: 0.2051 - accuracy: 0.9244 - val_loss: 1.4781 - val_accuracy: 0.5794\n",
      "Epoch 13/20\n",
      "81/81 [==============================] - 11s 129ms/step - loss: 0.1887 - accuracy: 0.9359 - val_loss: 1.3889 - val_accuracy: 0.6002\n",
      "Epoch 14/20\n",
      "81/81 [==============================] - 10s 128ms/step - loss: 0.1326 - accuracy: 0.9583 - val_loss: 1.6861 - val_accuracy: 0.5852\n",
      "Epoch 15/20\n",
      "81/81 [==============================] - 10s 128ms/step - loss: 0.1462 - accuracy: 0.9464 - val_loss: 1.7087 - val_accuracy: 0.5875\n",
      "Epoch 16/20\n",
      "81/81 [==============================] - 10s 128ms/step - loss: 0.1088 - accuracy: 0.9649 - val_loss: 1.7251 - val_accuracy: 0.5910\n",
      "Epoch 17/20\n",
      "81/81 [==============================] - 10s 129ms/step - loss: 0.0809 - accuracy: 0.9745 - val_loss: 1.8889 - val_accuracy: 0.6002\n",
      "Epoch 18/20\n",
      "81/81 [==============================] - 11s 129ms/step - loss: 0.1005 - accuracy: 0.9680 - val_loss: 1.9302 - val_accuracy: 0.5724\n",
      "Epoch 19/20\n",
      "81/81 [==============================] - 10s 129ms/step - loss: 0.0757 - accuracy: 0.9745 - val_loss: 1.9338 - val_accuracy: 0.5701\n",
      "Epoch 20/20\n",
      "81/81 [==============================] - 10s 129ms/step - loss: 0.0549 - accuracy: 0.9838 - val_loss: 2.0138 - val_accuracy: 0.5979\n"
     ]
    },
    {
     "data": {
      "text/plain": [
       "<keras.src.callbacks.History at 0x7f46e416bd90>"
      ]
     },
     "execution_count": 11,
     "metadata": {},
     "output_type": "execute_result"
    }
   ],
   "source": [
    "cnn.fit(\n",
    "  train_gen,\n",
    "  validation_data=test_gen,\n",
    "  epochs=20\n",
    ")"
   ]
  },
  {
   "cell_type": "code",
   "execution_count": 12,
   "metadata": {},
   "outputs": [
    {
     "name": "stdout",
     "output_type": "stream",
     "text": [
      "27/27 [==============================] - 1s 42ms/step - loss: 2.0138 - accuracy: 0.5979\n",
      "Test loss: 2.0138320922851562\n",
      "Test accuracy: 0.5979142785072327\n"
     ]
    }
   ],
   "source": [
    "test_eval = cnn.evaluate(test_gen)#X_test, y_test, verbose=0)\n",
    "\n",
    "print('Test loss:', test_eval[0])\n",
    "print('Test accuracy:', test_eval[1])"
   ]
  },
  {
   "cell_type": "code",
   "execution_count": null,
   "metadata": {},
   "outputs": [],
   "source": []
  }
 ],
 "metadata": {
  "kernelspec": {
   "display_name": "stat486",
   "language": "python",
   "name": "python3"
  },
  "language_info": {
   "codemirror_mode": {
    "name": "ipython",
    "version": 3
   },
   "file_extension": ".py",
   "mimetype": "text/x-python",
   "name": "python",
   "nbconvert_exporter": "python",
   "pygments_lexer": "ipython3",
   "version": "3.10.12"
  }
 },
 "nbformat": 4,
 "nbformat_minor": 2
}
