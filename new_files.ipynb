{
 "cells": [
  {
   "cell_type": "code",
   "execution_count": 14,
   "metadata": {},
   "outputs": [],
   "source": [
    "import pandas as pd\n",
    "from sklearn.datasets import fetch_openml\n",
    "import os"
   ]
  },
  {
   "cell_type": "code",
   "execution_count": 15,
   "metadata": {},
   "outputs": [
    {
     "name": "stderr",
     "output_type": "stream",
     "text": [
      "c:\\Users\\scott\\AppData\\Local\\Programs\\Python\\Python310\\lib\\site-packages\\sklearn\\datasets\\_openml.py:968: FutureWarning: The default value of `parser` will change from `'liac-arff'` to `'auto'` in 1.4. You can set `parser='auto'` to silence this warning. Therefore, an `ImportError` will be raised from 1.4 if the dataset is dense and pandas is not installed. Note that the pandas parser may return different data types. See the Notes Section in fetch_openml's API doc for details.\n",
      "  warn(\n"
     ]
    }
   ],
   "source": [
    "full_data = fetch_openml(data_id=44283)\n",
    "df = full_data.frame "
   ]
  },
  {
   "cell_type": "code",
   "execution_count": 22,
   "metadata": {},
   "outputs": [
    {
     "data": {
      "text/plain": [
       "array(['gazania', 'bolero deep blue', 'moon orchid', 'bougainvillea',\n",
       "       'yellow iris', 'fritillary', 'passion flower', 'garden phlox',\n",
       "       'hard-leaved pocket orchid', 'orange dahlia', 'tiger lily',\n",
       "       'sweet william', 'silverbush', 'spear thistle', 'morning glory',\n",
       "       'red ginger', 'canna lily', 'wallflower', 'magnolia',\n",
       "       'peruvian lily', 'hibiscus', 'spring crocus', \"colt's foot\",\n",
       "       'frangipani', 'bromelia', 'sword lily', 'bearded iris',\n",
       "       'tree mallow', 'fire lily', 'globe thistle', 'thorn apple',\n",
       "       'snapdragon', 'tree poppy', 'desert-rose', 'camellia', 'ball moss',\n",
       "       'balloon flower', 'foxglove', 'monkshood', 'great masterwort',\n",
       "       'petunia', 'bird of paradise', 'watercress', 'geranium',\n",
       "       'hippeastrum', 'daffodil', 'trumpet creeper',\n",
       "       'pink-yellow dahlia?', 'clematis', 'globe-flower',\n",
       "       'english marigold', 'common dandelion', 'carnation', 'sweet pea',\n",
       "       'lenten rose', 'blackberry lily', 'black-eyed susan', 'artichoke',\n",
       "       'gaura', 'marigold', 'columbine', 'purple coneflower', 'cyclamen',\n",
       "       'water lily', 'mexican aster', 'bishop of llandaff',\n",
       "       'grape hyacinth', 'stemless gentian', 'love in the mist',\n",
       "       'primula', 'buttercup', 'siam tulip', 'blanket flower',\n",
       "       'toad lily', 'windflower', 'alpine sea holly', 'sunflower',\n",
       "       'poinsettia', 'anthurium', 'mallow', 'barbeton daisy', 'bee balm',\n",
       "       'canterbury bells', 'japanese anemone', 'prince of wales feathers',\n",
       "       'pink primrose', 'wild pansy', 'oxeye daisy', 'cautleya spicata',\n",
       "       'giant white arum lily', 'pelargonium', 'lotus', 'king protea',\n",
       "       'mexican petunia', 'pincushion flower', 'azalea', 'rose',\n",
       "       'californian poppy', 'cape flower', 'corn poppy', 'osteospermum',\n",
       "       'ruby-lipped cattleya'], dtype=object)"
      ]
     },
     "execution_count": 22,
     "metadata": {},
     "output_type": "execute_result"
    }
   ],
   "source": [
    "df.CATEGORY.unique()"
   ]
  },
  {
   "cell_type": "code",
   "execution_count": 23,
   "metadata": {},
   "outputs": [],
   "source": [
    "TARGET_CATEGORIES = ['sunflower','rose','oxeye daisy','common dandelion']\n",
    "DATA_PATH = './new_data/'"
   ]
  },
  {
   "cell_type": "code",
   "execution_count": 24,
   "metadata": {},
   "outputs": [],
   "source": [
    "needed_images = df[df.CATEGORY.isin(TARGET_CATEGORIES)].FILE_NAME\n",
    "not_needed_images = [img for img in os.listdir(DATA_PATH) if img not in list(needed_images)]"
   ]
  },
  {
   "cell_type": "code",
   "execution_count": 25,
   "metadata": {},
   "outputs": [
    {
     "data": {
      "text/plain": [
       "70      image_06298.jpg\n",
       "126     image_05443.jpg\n",
       "160     image_06318.jpg\n",
       "175     image_05435.jpg\n",
       "182     image_06228.jpg\n",
       "             ...       \n",
       "3912    image_06560.jpg\n",
       "3954    image_06218.jpg\n",
       "3994    image_05449.jpg\n",
       "4009    image_06553.jpg\n",
       "4038    image_06201.jpg\n",
       "Name: FILE_NAME, Length: 160, dtype: object"
      ]
     },
     "execution_count": 25,
     "metadata": {},
     "output_type": "execute_result"
    }
   ],
   "source": [
    "needed_images"
   ]
  },
  {
   "cell_type": "code",
   "execution_count": 20,
   "metadata": {},
   "outputs": [
    {
     "data": {
      "text/plain": [
       "[]"
      ]
     },
     "execution_count": 20,
     "metadata": {},
     "output_type": "execute_result"
    }
   ],
   "source": [
    "[img for img in os.listdir(DATA_PATH) if img not in needed_images]"
   ]
  },
  {
   "cell_type": "code",
   "execution_count": 60,
   "metadata": {},
   "outputs": [
    {
     "name": "stdout",
     "output_type": "stream",
     "text": [
      "Removed image 4108 of 4109\r"
     ]
    }
   ],
   "source": [
    "## Remove not needed images from data at DATA_PATH\n",
    "for i,image in enumerate(not_needed_images):\n",
    "    path = f'{DATA_PATH}{image}'\n",
    "    if os.path.exists(path):\n",
    "        os.remove(path)\n",
    "        print(f\"Removed image {i} of {len(not_needed_images)}\", end='\\r')"
   ]
  },
  {
   "cell_type": "code",
   "execution_count": 65,
   "metadata": {},
   "outputs": [
    {
     "data": {
      "text/plain": [
       "70      'common dandelion'\n",
       "126              sunflower\n",
       "160     'common dandelion'\n",
       "175              sunflower\n",
       "182          'oxeye daisy'\n",
       "               ...        \n",
       "3912    'common dandelion'\n",
       "3954         'oxeye daisy'\n",
       "3994             sunflower\n",
       "4009    'common dandelion'\n",
       "4038         'oxeye daisy'\n",
       "Name: CATEGORY, Length: 160, dtype: object"
      ]
     },
     "execution_count": 65,
     "metadata": {},
     "output_type": "execute_result"
    }
   ],
   "source": [
    "df[df.CATEGORY.isin(TARGET_CATEGORIES)].CATEGORY"
   ]
  },
  {
   "cell_type": "code",
   "execution_count": 31,
   "metadata": {},
   "outputs": [],
   "source": [
    "new_df = pd.DataFrame({\n",
    "    'ID': needed_images,\n",
    "    'target': df[df.CATEGORY.isin(TARGET_CATEGORIES)].CATEGORY\n",
    "})"
   ]
  },
  {
   "cell_type": "code",
   "execution_count": 32,
   "metadata": {},
   "outputs": [],
   "source": [
    "## Map new targets to different names\n",
    "FLOWER_MAPPING = {\n",
    "    'common dandelion': 'dandelion',\n",
    "    'rose': 'rose',\n",
    "    'oxeye daisy': 'daisy',\n",
    "    'sunflower': 'sunflower'\n",
    "}\n",
    "\n",
    "new_df['target'] = new_df['target'].map(FLOWER_MAPPING)"
   ]
  },
  {
   "cell_type": "code",
   "execution_count": 33,
   "metadata": {},
   "outputs": [
    {
     "data": {
      "text/plain": [
       "dandelion    40\n",
       "sunflower    40\n",
       "daisy        40\n",
       "rose         40\n",
       "Name: target, dtype: int64"
      ]
     },
     "execution_count": 33,
     "metadata": {},
     "output_type": "execute_result"
    }
   ],
   "source": [
    "new_df.target.value_counts()"
   ]
  },
  {
   "cell_type": "code",
   "execution_count": 34,
   "metadata": {},
   "outputs": [],
   "source": [
    "new_df.to_csv('./new_training_labels.csv', index=False)"
   ]
  }
 ],
 "metadata": {
  "kernelspec": {
   "display_name": "stat486",
   "language": "python",
   "name": "python3"
  },
  "language_info": {
   "codemirror_mode": {
    "name": "ipython",
    "version": 3
   },
   "file_extension": ".py",
   "mimetype": "text/x-python",
   "name": "python",
   "nbconvert_exporter": "python",
   "pygments_lexer": "ipython3",
   "version": "3.10.12"
  }
 },
 "nbformat": 4,
 "nbformat_minor": 2
}
